{
 "cells": [
  {
   "cell_type": "code",
   "execution_count": 1,
   "metadata": {},
   "outputs": [
    {
     "name": "stderr",
     "output_type": "stream",
     "text": [
      "/root/miniconda3/envs/myconda/lib/python3.8/site-packages/tqdm/auto.py:22: TqdmWarning: IProgress not found. Please update jupyter and ipywidgets. See https://ipywidgets.readthedocs.io/en/stable/user_install.html\n",
      "  from .autonotebook import tqdm as notebook_tqdm\n"
     ]
    }
   ],
   "source": [
    "import matplotlib.pyplot as plt\n",
    "from PIL import Image\n",
    "import torch.nn as nn\n",
    "import numpy as np\n",
    "import os\n",
    "from tqdm import tqdm\n",
    "import cv2\n",
    "\n",
    "import torch\n",
    "from lime import lime_image\n",
    "import shap\n",
    "\n",
    "from api_standard import ApiClass as oracle\n",
    "oracle.init()"
   ]
  },
  {
   "cell_type": "code",
   "execution_count": 2,
   "metadata": {},
   "outputs": [
    {
     "name": "stderr",
     "output_type": "stream",
     "text": [
      "100%|██████████| 30/30 [00:01<00:00, 24.32it/s]"
     ]
    },
    {
     "name": "stdout",
     "output_type": "stream",
     "text": [
      "34\n"
     ]
    },
    {
     "name": "stderr",
     "output_type": "stream",
     "text": [
      "\n"
     ]
    }
   ],
   "source": [
    "file_list = [\n",
    "    './enh/face1_enh.png',\n",
    "    './enh/face2_enh.png',\n",
    "    './enh/noface1_enh.png',\n",
    "    './enh/noface2_enh.png'\n",
    "]\n",
    "\n",
    "for i in tqdm(range(1, 31)):\n",
    "    oracle.lowlight_enhance_by_path(f'./img/extra/{i}.png', f'./enh/{i}.png')\n",
    "    file_list.append(f'./enh/{i}.png')\n",
    "\n",
    "print(len(file_list))"
   ]
  },
  {
   "cell_type": "code",
   "execution_count": 3,
   "metadata": {},
   "outputs": [],
   "source": [
    "def read_img(src_path):\n",
    "    with open(src_path, 'rb') as f:\n",
    "        img = Image.open(f).convert('RGB')\n",
    "    img = np.array(img, dtype=np.float64) / 255\n",
    "    return img\n",
    "\n",
    "imgs = np.array([read_img(file_path) for file_path in file_list])"
   ]
  },
  {
   "cell_type": "code",
   "execution_count": 4,
   "metadata": {},
   "outputs": [],
   "source": [
    "def batch_predict(imgs):\n",
    "    ps = oracle.get_confidence_by_ndarray(np.array(imgs).transpose((0,3,1,2)))\n",
    "    ps = np.array([1-ps, ps]).transpose((1,0))\n",
    "    assert len(ps.shape) == 2 and ps.shape[1] == 2\n",
    "    return ps"
   ]
  },
  {
   "cell_type": "code",
   "execution_count": null,
   "metadata": {},
   "outputs": [
    {
     "name": "stderr",
     "output_type": "stream",
     "text": [
      "100%|██████████| 1000/1000 [01:07<00:00, 14.78it/s]\n",
      "100%|██████████| 1000/1000 [01:09<00:00, 14.42it/s]\n",
      "100%|██████████| 1000/1000 [01:05<00:00, 15.17it/s]\n",
      "100%|██████████| 1000/1000 [01:06<00:00, 15.14it/s]\n",
      "100%|██████████| 1000/1000 [01:16<00:00, 13.03it/s]\n",
      "100%|██████████| 1000/1000 [01:07<00:00, 14.80it/s]\n",
      "100%|██████████| 1000/1000 [01:06<00:00, 15.14it/s]\n",
      "100%|█████████▉| 997/1000 [01:05<00:00, 33.54it/s]"
     ]
    }
   ],
   "source": [
    "for file_path in file_list:\n",
    "    img = read_img(file_path)\n",
    "    explainer = lime_image.LimeImageExplainer()\n",
    "    explanation = explainer.explain_instance(img, batch_predict, top_labels=2, hide_color=0, num_samples=1000, batch_size=50)\n",
    "    temp, mask = explanation.get_image_and_mask(explanation.top_labels[0], positive_only=False, num_features=1, hide_rest=False)\n",
    "    cv2.imwrite(file_path.replace('enh','lime').replace('.png','-1.png'), temp[:, :, [2,1,0]]*255)\n",
    "    temp, mask = explanation.get_image_and_mask(explanation.top_labels[0], positive_only=False, num_features=2, hide_rest=False)\n",
    "    cv2.imwrite(file_path.replace('enh','lime').replace('.png','-2.png'), temp[:, :, [2,1,0]]*255)\n",
    "    temp, mask = explanation.get_image_and_mask(explanation.top_labels[0], positive_only=False, num_features=5, hide_rest=False)\n",
    "    cv2.imwrite(file_path.replace('enh','lime').replace('.png','-5.png'), temp[:, :, [2,1,0]]*255)\n",
    "    temp, mask = explanation.get_image_and_mask(explanation.top_labels[0], positive_only=False, num_features=10, hide_rest=False)\n",
    "    cv2.imwrite(file_path.replace('enh','lime').replace('.png','-10.png'), temp[:, :, [2,1,0]]*255)\n",
    "    temp, mask = explanation.get_image_and_mask(explanation.top_labels[0], positive_only=False, num_features=15, hide_rest=False)\n",
    "    cv2.imwrite(file_path.replace('enh','lime').replace('.png','-15.png'), temp[:, :, [2,1,0]]*255)\n",
    "    temp, mask = explanation.get_image_and_mask(explanation.top_labels[0], positive_only=False, num_features=20, hide_rest=False)\n",
    "    cv2.imwrite(file_path.replace('enh','lime').replace('.png','-20.png'), temp[:, :, [2,1,0]]*255)\n",
    "    temp, mask = explanation.get_image_and_mask(explanation.top_labels[0], positive_only=False, num_features=50, hide_rest=False)\n",
    "    cv2.imwrite(file_path.replace('enh','lime').replace('.png','-50.png'), temp[:, :, [2,1,0]]*255)\n",
    "    temp, mask = explanation.get_image_and_mask(explanation.top_labels[0], positive_only=False, num_features=100, hide_rest=False)\n",
    "    cv2.imwrite(file_path.replace('enh','lime').replace('.png','-100.png'), temp[:, :, [2,1,0]]*255)"
   ]
  },
  {
   "cell_type": "code",
   "execution_count": null,
   "metadata": {},
   "outputs": [],
   "source": [
    "# temp, mask = explainer.get_image_and_mask(explainer.top_labels[0], positive_only=False, num_features=20, hide_rest=False)\n",
    "# plt.imshow(temp)"
   ]
  },
  {
   "cell_type": "code",
   "execution_count": null,
   "metadata": {
    "scrolled": true,
    "tags": []
   },
   "outputs": [],
   "source": [
    "# masker = shap.maskers.Image(\"inpaint_telea\", imgs[0].shape)\n",
    "# shap_explainer = shap.Explainer(batch_predict, masker, output_names=['noface', 'hasface'])\n",
    "# shap_values = shap_explainer(imgs.copy(), max_evals=1600, batch_size=16)\n",
    "# shap.image_plot(shap_values)"
   ]
  }
 ],
 "metadata": {
  "interpreter": {
   "hash": "1057401c2da1019873c849fd017f46d8ed0dab5a7bba75e93d279a3f7abeeb39"
  },
  "kernelspec": {
   "display_name": "myconda",
   "language": "python",
   "name": "myconda"
  },
  "language_info": {
   "codemirror_mode": {
    "name": "ipython",
    "version": 3
   },
   "file_extension": ".py",
   "mimetype": "text/x-python",
   "name": "python",
   "nbconvert_exporter": "python",
   "pygments_lexer": "ipython3",
   "version": "3.8.12"
  }
 },
 "nbformat": 4,
 "nbformat_minor": 4
}
