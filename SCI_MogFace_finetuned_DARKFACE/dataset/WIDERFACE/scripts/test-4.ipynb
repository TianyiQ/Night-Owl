{
 "cells": [
  {
   "cell_type": "code",
   "execution_count": 4,
   "metadata": {},
   "outputs": [
    {
     "name": "stdout",
     "output_type": "stream",
     "text": [
      "<U5\n"
     ]
    }
   ],
   "source": [
    "import scipy.io as scio\n",
    "import numpy as np\n",
    "\n",
    "fake = {'event_list':[], 'file_list':[]}\n",
    "fake['event_list'] = np.array([[np.array([f'{i}'])] for i in range(10)])\n",
    "\n",
    "all_conts = []\n",
    "\n",
    "for i in range(10):\n",
    "    cont = []\n",
    "    with open(f'./val_test{i}.txt', 'r') as widerval:\n",
    "        lines = widerval.readlines()\n",
    "        for line in lines:\n",
    "            name = line\n",
    "            name = name.rstrip('\\n').rstrip(' ').rstrip('\\t')\n",
    "            name = name.split('/')[-1].split('.')[0]\n",
    "            cont.append([np.array([name])])\n",
    "    all_conts.append([cont])\n",
    "\n",
    "fake['file_list'] = np.array(all_conts)\n",
    "print(fake['file_list'].dtype)\n",
    "\n",
    "scio.savemat('./wider_face_val_test.mat', fake)"
   ]
  }
 ],
 "metadata": {
  "interpreter": {
   "hash": "1057401c2da1019873c849fd017f46d8ed0dab5a7bba75e93d279a3f7abeeb39"
  },
  "kernelspec": {
   "display_name": "Python 3.8.12 ('base')",
   "language": "python",
   "name": "python3"
  },
  "language_info": {
   "codemirror_mode": {
    "name": "ipython",
    "version": 3
   },
   "file_extension": ".py",
   "mimetype": "text/x-python",
   "name": "python",
   "nbconvert_exporter": "python",
   "pygments_lexer": "ipython3",
   "version": "3.8.12"
  },
  "orig_nbformat": 4
 },
 "nbformat": 4,
 "nbformat_minor": 2
}
