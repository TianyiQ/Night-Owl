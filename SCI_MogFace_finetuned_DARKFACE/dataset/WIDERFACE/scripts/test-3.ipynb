{
 "cells": [
  {
   "cell_type": "code",
   "execution_count": 1,
   "metadata": {},
   "outputs": [],
   "source": [
    "import scipy.io as scio\n",
    "import numpy as np\n",
    "\n",
    "for i in range(10):\n",
    "    fake = {'event_list':[], 'file_list':[]}\n",
    "    fake['event_list'] = np.array([[np.array([f'{i}'])]])\n",
    "\n",
    "    cont = []\n",
    "    with open(f'./val_test{i}.txt', 'r') as widerval:\n",
    "        lines = widerval.readlines()\n",
    "        for line in lines:\n",
    "            name = line\n",
    "            name = name.rstrip('\\n').rstrip(' ').rstrip('\\t')\n",
    "            name = name.split('/')[-1].split('.')[0]\n",
    "            cont.append([np.array([name])])\n",
    "    fake['file_list'] = np.array([[cont]])\n",
    "\n",
    "    scio.savemat(f'./wider_face_val_test{i}.mat', fake)\n"
   ]
  },
  {
   "cell_type": "code",
   "execution_count": null,
   "metadata": {},
   "outputs": [],
   "source": [
    "str = \"\"\"mv ./WIDER_val ./WIDER_val_real\n",
    "sudo ln -s ./WIDER_test ./WIDER_val\n",
    "\n",
    "mv ./val.txt ./val_real.txt\n",
    "mv ./val_test0.txt ./val.txt\n",
    "\n",
    "mv ./wider_face_val.mat ./wider_face_val_real.mat\n",
    "mv ./wider_face_val_test0.mat ./wider_face_val.mat\n",
    "\n",
    "mv ./wider_face_split/wider_face_val.mat ./wider_face_split/wider_face_val_real.mat\n",
    "mv ./wider_face_split/wider_face_val_test0.mat ./wider_face_split/wider_face_val.mat\n",
    "\n",
    "mv ./ground_truth/wider_face_val.mat ./ground_truth/wider_face_val_real.mat\n",
    "mv ./ground_truth/wider_face_val_test0.mat ./ground_truth/wider_face_val.mat\n",
    "\"\"\"\n",
    "\n",
    "for i in range(10):\n",
    "    with open(f'./test2val{i}.sh', 'w') as of:\n",
    "        of.write(str.replace('0',f'{i}'))"
   ]
  }
 ],
 "metadata": {
  "interpreter": {
   "hash": "1057401c2da1019873c849fd017f46d8ed0dab5a7bba75e93d279a3f7abeeb39"
  },
  "kernelspec": {
   "display_name": "Python 3.8.12 ('base')",
   "language": "python",
   "name": "python3"
  },
  "language_info": {
   "codemirror_mode": {
    "name": "ipython",
    "version": 3
   },
   "file_extension": ".py",
   "mimetype": "text/x-python",
   "name": "python",
   "nbconvert_exporter": "python",
   "pygments_lexer": "ipython3",
   "version": "3.8.12"
  },
  "orig_nbformat": 4
 },
 "nbformat": 4,
 "nbformat_minor": 2
}
